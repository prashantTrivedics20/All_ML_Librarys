{
 "cells": [
  {
   "cell_type": "code",
   "execution_count": 23,
   "metadata": {
    "executionInfo": {
     "elapsed": 467,
     "status": "ok",
     "timestamp": 1634514615486,
     "user": {
      "displayName": "naman parashar",
      "photoUrl": "https://lh3.googleusercontent.com/a/default-user=s64",
      "userId": "00928545355293932381"
     },
     "user_tz": -330
    },
    "id": "h_LRgTu2lytI"
   },
   "outputs": [],
   "source": [
    "import numpy as np\n",
    "import math\n",
    "x=[171,151,124,134,156]\n",
    "y=[80,60,45,50,65]\n",
    "h=np.array(x)\n",
    "w=np.array(y)"
   ]
  },
  {
   "cell_type": "code",
   "execution_count": 24,
   "metadata": {
    "colab": {
     "base_uri": "https://localhost:8080/"
    },
    "executionInfo": {
     "elapsed": 427,
     "status": "ok",
     "timestamp": 1634514617846,
     "user": {
      "displayName": "naman parashar",
      "photoUrl": "https://lh3.googleusercontent.com/a/default-user=s64",
      "userId": "00928545355293932381"
     },
     "user_tz": -330
    },
    "id": "R1zygLdyl5DM",
    "outputId": "63ee2e10-4443-4807-a7fc-28b46549f8e8"
   },
   "outputs": [
    {
     "name": "stdout",
     "output_type": "stream",
     "text": [
      "Mean of height = 147\n",
      "Mean of weight = 60\n"
     ]
    }
   ],
   "source": [
    "mh=sum(h)\n",
    "mh=int(mh/5)\n",
    "mw=sum(w)\n",
    "mw=int(mw/5)\n",
    "print(\"Mean of height =\", mh)\n",
    "print(\"Mean of weight =\", mw)"
   ]
  },
  {
   "cell_type": "code",
   "execution_count": 31,
   "metadata": {
    "colab": {
     "base_uri": "https://localhost:8080/"
    },
    "executionInfo": {
     "elapsed": 436,
     "status": "ok",
     "timestamp": 1634514862333,
     "user": {
      "displayName": "naman parashar",
      "photoUrl": "https://lh3.googleusercontent.com/a/default-user=s64",
      "userId": "00928545355293932381"
     },
     "user_tz": -330
    },
    "id": "b-i4KnAumoz1",
    "outputId": "4f101d5c-eab4-4527-fff4-8e17da3e558b"
   },
   "outputs": [
    {
     "data": {
      "text/plain": [
       "0.7293946024799417"
      ]
     },
     "execution_count": 31,
     "metadata": {},
     "output_type": "execute_result"
    }
   ],
   "source": [
    "sx=0\n",
    "sx2=0\n",
    "for i in range(5):\n",
    "  sx=sx+(h[i]-mh)*(w[i]-mw)\n",
    "for y in range(5):\n",
    "  sx2=sx2+(pow((h[y]-mh),2))\n",
    "m=sx/sx2\n",
    "m"
   ]
  },
  {
   "cell_type": "code",
   "execution_count": 32,
   "metadata": {
    "colab": {
     "base_uri": "https://localhost:8080/"
    },
    "executionInfo": {
     "elapsed": 440,
     "status": "ok",
     "timestamp": 1634514885062,
     "user": {
      "displayName": "naman parashar",
      "photoUrl": "https://lh3.googleusercontent.com/a/default-user=s64",
      "userId": "00928545355293932381"
     },
     "user_tz": -330
    },
    "id": "svZqQhOxoHF7",
    "outputId": "8fdb29c3-e869-4ce8-db21-3ee6cd5bf29a"
   },
   "outputs": [
    {
     "data": {
      "text/plain": [
       "-47.22100656455143"
      ]
     },
     "execution_count": 32,
     "metadata": {},
     "output_type": "execute_result"
    }
   ],
   "source": [
    "c=mw-(m*mh)\n",
    "c"
   ]
  },
  {
   "cell_type": "code",
   "execution_count": 42,
   "metadata": {
    "colab": {
     "base_uri": "https://localhost:8080/"
    },
    "executionInfo": {
     "elapsed": 7,
     "status": "ok",
     "timestamp": 1634515768276,
     "user": {
      "displayName": "naman parashar",
      "photoUrl": "https://lh3.googleusercontent.com/a/default-user=s64",
      "userId": "00928545355293932381"
     },
     "user_tz": -330
    },
    "id": "w8Hz5Ke0rdLG",
    "outputId": "db155f4a-c7a9-47e4-e0b2-14ed3cf9377d"
   },
   "outputs": [
    {
     "data": {
      "text/plain": [
       "array([77.50547046, 62.91757841, 43.22392414, 50.51787017, 66.56455142])"
      ]
     },
     "execution_count": 42,
     "metadata": {},
     "output_type": "execute_result"
    }
   ],
   "source": [
    "p=[]\n",
    "for i in range(5):\n",
    "  Y=(m*h[i])+c\n",
    "  p.append(Y)\n",
    "pa=np.array(p)\n",
    "pa"
   ]
  },
  {
   "cell_type": "code",
   "execution_count": null,
   "metadata": {
    "id": "1WRlhMd7u_Fh"
   },
   "outputs": [],
   "source": [
    ""
   ]
  },
  {
   "cell_type": "code",
   "execution_count": 36,
   "metadata": {
    "colab": {
     "base_uri": "https://localhost:8080/",
     "height": 283
    },
    "executionInfo": {
     "elapsed": 503,
     "status": "ok",
     "timestamp": 1634515327170,
     "user": {
      "displayName": "naman parashar",
      "photoUrl": "https://lh3.googleusercontent.com/a/default-user=s64",
      "userId": "00928545355293932381"
     },
     "user_tz": -330
    },
    "id": "4JMuyQZfsOSH",
    "outputId": "be3d8427-0d57-4feb-c262-38d7e23f0126"
   },
   "outputs": [
    {
     "data": {
      "text/plain": [
       "<matplotlib.collections.PathCollection at 0x7f0a419efc10>"
      ]
     },
     "execution_count": 36,
     "metadata": {},
     "output_type": "execute_result"
    },
    {
     "data": {
      "image/png": "[encoded data removed]",
      "text/plain": [
       "<Figure size 432x288 with 1 Axes>"
      ]
     },
     "metadata": {
      "needs_background": "light"
     },
     "output_type": "display_data"
    }
   ],
   "source": [
    "import matplotlib.pyplot as plt\n",
    "plt.scatter(h,w)\n"
   ]
  },
  {
   "cell_type": "code",
   "execution_count": null,
   "metadata": {
    "id": "NDa0MM6usYj_"
   },
   "outputs": [],
   "source": [
    ""
   ]
  }
 ],
 "metadata": {
  "colab": {
   "authorship_tag": "ABX9TyNTorWciJ2rhpFXzOpfwEoT",
   "name": "MLLAB1.2.ipynb",
   "provenance": []
  },
  "kernelspec": {
   "display_name": "Python 3",
   "name": "python3"
  },
  "language_info": {
   "name": "python"
  }
 },
 "nbformat": 4,
 "nbformat_minor": 0
}
