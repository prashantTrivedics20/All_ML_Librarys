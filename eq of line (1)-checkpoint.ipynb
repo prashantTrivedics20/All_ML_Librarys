{
 "cells": [
  {
   "cell_type": "code",
   "execution_count": 17,
   "metadata": {
    "executionInfo": {
     "elapsed": 692,
     "status": "ok",
     "timestamp": 1634512033061,
     "user": {
      "displayName": "naman parashar",
      "photoUrl": "https://lh3.googleusercontent.com/a/default-user=s64",
      "userId": "00928545355293932381"
     },
     "user_tz": -330
    },
    "id": "pGplFCWedPSi"
   },
   "outputs": [],
   "source": [
    "def equ(x1,x2,y1,y2):\n",
    "  m=(y2-y1)/(x2-x1)\n",
    "  c=y1-(m*x1)\n",
    "  return (m,c)"
   ]
  },
  {
   "cell_type": "code",
   "execution_count": 18,
   "metadata": {
    "executionInfo": {
     "elapsed": 5,
     "status": "ok",
     "timestamp": 1634512035290,
     "user": {
      "displayName": "naman parashar",
      "photoUrl": "https://lh3.googleusercontent.com/a/default-user=s64",
      "userId": "00928545355293932381"
     },
     "user_tz": -330
    },
    "id": "HIpk6gYOddKo"
   },
   "outputs": [],
   "source": [
    "m,c = equ(3,9,5,10)"
   ]
  },
  {
   "cell_type": "code",
   "execution_count": 19,
   "metadata": {
    "colab": {
     "base_uri": "https://localhost:8080/"
    },
    "executionInfo": {
     "elapsed": 669,
     "status": "ok",
     "timestamp": 1634512044169,
     "user": {
      "displayName": "naman parashar",
      "photoUrl": "https://lh3.googleusercontent.com/a/default-user=s64",
      "userId": "00928545355293932381"
     },
     "user_tz": -330
    },
    "id": "90jUQbsod4Ms",
    "outputId": "bfc9e85e-5b95-4876-daf1-ed35889fe316"
   },
   "outputs": [
    {
     "name": "stdout",
     "output_type": "stream",
     "text": [
      "Y= 0.83 x +  2.5\n"
     ]
    }
   ],
   "source": [
    "print(\"Y=\",'{:.2f}'.format(m),\"x + \",c)"
   ]
  },
  {
   "cell_type": "code",
   "execution_count": 24,
   "metadata": {
    "colab": {
     "base_uri": "https://localhost:8080/",
     "height": 283
    },
    "executionInfo": {
     "elapsed": 473,
     "status": "ok",
     "timestamp": 1634512482743,
     "user": {
      "displayName": "naman parashar",
      "photoUrl": "https://lh3.googleusercontent.com/a/default-user=s64",
      "userId": "00928545355293932381"
     },
     "user_tz": -330
    },
    "id": "YDQzvUyVeEfE",
    "outputId": "b3fc9850-3509-4037-e4be-0a1cee202670"
   },
   "outputs": [
    {
     "data": {
      "text/plain": [
       "[<matplotlib.lines.Line2D at 0x7f6fab396ad0>]"
      ]
     },
     "execution_count": 24,
     "metadata": {},
     "output_type": "execute_result"
    },
    {
     "data": {
      "image/png": "[encoded data removed]",
      "text/plain": [
       "<Figure size 432x288 with 1 Axes>"
      ]
     },
     "metadata": {
      "needs_background": "light"
     },
     "output_type": "display_data"
    }
   ],
   "source": [
    "import matplotlib.pyplot as plt\n",
    "plt.plot([3,5],[9,10])"
   ]
  },
  {
   "cell_type": "code",
   "execution_count": 25,
   "metadata": {
    "colab": {
     "base_uri": "https://localhost:8080/",
     "height": 283
    },
    "executionInfo": {
     "elapsed": 508,
     "status": "ok",
     "timestamp": 1634513378648,
     "user": {
      "displayName": "naman parashar",
      "photoUrl": "https://lh3.googleusercontent.com/a/default-user=s64",
      "userId": "00928545355293932381"
     },
     "user_tz": -330
    },
    "id": "pLdWAsoYhYtt",
    "outputId": "581c07ab-4ade-4281-8465-7bbaf10dec08"
   },
   "outputs": [
    {
     "data": {
      "text/plain": [
       "[<matplotlib.lines.Line2D at 0x7f6fab879d50>]"
      ]
     },
     "execution_count": 25,
     "metadata": {},
     "output_type": "execute_result"
    },
    {
     "data": {
      "image/png": "[encoded data removed]",
      "text/plain": [
       "<Figure size 432x288 with 1 Axes>"
      ]
     },
     "metadata": {
      "needs_background": "light"
     },
     "output_type": "display_data"
    }
   ],
   "source": [
    "plt.plot([171,151,124,134,156],[80,60,45,50,65])"
   ]
  },
  {
   "cell_type": "code",
   "execution_count": null,
   "metadata": {
    "id": "Ol6vyGrWltjT"
   },
   "outputs": [],
   "source": [
    ""
   ]
  }
 ],
 "metadata": {
  "colab": {
   "authorship_tag": "ABX9TyPUlPzkJ22L9mG/pYhxSj2n",
   "name": "eq of line.ipynb",
   "provenance": []
  },
  "kernelspec": {
   "display_name": "Python 3",
   "name": "python3"
  },
  "language_info": {
   "name": "python"
  }
 },
 "nbformat": 4,
 "nbformat_minor": 0
}
